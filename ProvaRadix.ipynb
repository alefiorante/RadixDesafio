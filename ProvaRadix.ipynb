{
  "nbformat": 4,
  "nbformat_minor": 0,
  "metadata": {
    "colab": {
      "name": "ProvaRadix.ipynb",
      "provenance": [],
      "authorship_tag": "ABX9TyOK5k9Cb/k/sqlS3WvpQdSo",
      "include_colab_link": true
    },
    "kernelspec": {
      "name": "python3",
      "display_name": "Python 3"
    },
    "language_info": {
      "name": "python"
    }
  },
  "cells": [
    {
      "cell_type": "markdown",
      "metadata": {
        "id": "view-in-github",
        "colab_type": "text"
      },
      "source": [
        "<a href=\"https://colab.research.google.com/github/alefiorante/RadixDesafio/blob/main/ProvaRadix.ipynb\" target=\"_parent\"><img src=\"https://colab.research.google.com/assets/colab-badge.svg\" alt=\"Open In Colab\"/></a>"
      ]
    },
    {
      "cell_type": "markdown",
      "metadata": {
        "id": "BiJ6VHu5y0Yo"
      },
      "source": [
        "**Perunta 1 do Desafio**\n",
        "Escolha uma estratégia de tratamento de valores faltantes e outliers e justifique sua escolha."
      ]
    },
    {
      "cell_type": "code",
      "metadata": {
        "id": "ues78SERgfXL"
      },
      "source": [
        "import pandas as pd\n",
        "dados = pd.read_csv('/content/qualidade_do_ar.csv')\n"
      ],
      "execution_count": null,
      "outputs": []
    },
    {
      "cell_type": "code",
      "metadata": {
        "colab": {
          "base_uri": "https://localhost:8080/",
          "height": 224
        },
        "id": "yT12Skpthkhy",
        "outputId": "a97b05f7-3d8e-4cd7-f1af-84c91fdcb99a"
      },
      "source": [
        "dados.head()"
      ],
      "execution_count": null,
      "outputs": [
        {
          "output_type": "execute_result",
          "data": {
            "text/html": [
              "<div>\n",
              "<style scoped>\n",
              "    .dataframe tbody tr th:only-of-type {\n",
              "        vertical-align: middle;\n",
              "    }\n",
              "\n",
              "    .dataframe tbody tr th {\n",
              "        vertical-align: top;\n",
              "    }\n",
              "\n",
              "    .dataframe thead th {\n",
              "        text-align: right;\n",
              "    }\n",
              "</style>\n",
              "<table border=\"1\" class=\"dataframe\">\n",
              "  <thead>\n",
              "    <tr style=\"text-align: right;\">\n",
              "      <th></th>\n",
              "      <th></th>\n",
              "      <th></th>\n",
              "      <th></th>\n",
              "      <th>Date;Time;PT08.S1(CO);NMHC(GT);C6H6(GT);PT08.S2(NMHC);NOx(GT);PT08.S3(NOx);NO2(GT);PT08.S4(NO2);PT08.S5(O3);T;RH;AH</th>\n",
              "    </tr>\n",
              "  </thead>\n",
              "  <tbody>\n",
              "    <tr>\n",
              "      <th>10/03/2004;18.00.00;1360;150;11</th>\n",
              "      <th>9;1046;166;1056;113;1692;1268;13</th>\n",
              "      <th>6;48</th>\n",
              "      <th>9;0</th>\n",
              "      <td>7578.0</td>\n",
              "    </tr>\n",
              "    <tr>\n",
              "      <th>10/03/2004;19.00.00;1292;112;9</th>\n",
              "      <th>4;955;103;1174;92;1559;972;13</th>\n",
              "      <th>3;47</th>\n",
              "      <th>7;0</th>\n",
              "      <td>7255.0</td>\n",
              "    </tr>\n",
              "    <tr>\n",
              "      <th>10/03/2004;20.00.00;1402;88;9;939;131;1140;114;1555;1074;11</th>\n",
              "      <th>9;54;0</th>\n",
              "      <th>7502</th>\n",
              "      <th>NaN</th>\n",
              "      <td>NaN</td>\n",
              "    </tr>\n",
              "    <tr>\n",
              "      <th>10/03/2004;21.00.00;1376;80;9</th>\n",
              "      <th>2;948;172;1092;122;1584;1203;11;60;0</th>\n",
              "      <th>7867</th>\n",
              "      <th>NaN</th>\n",
              "      <td>NaN</td>\n",
              "    </tr>\n",
              "    <tr>\n",
              "      <th>10/03/2004;22.00.00;1272;51;6</th>\n",
              "      <th>5;836;131;1205;116;1490;1110;11</th>\n",
              "      <th>2;59</th>\n",
              "      <th>6;0</th>\n",
              "      <td>7888.0</td>\n",
              "    </tr>\n",
              "  </tbody>\n",
              "</table>\n",
              "</div>"
            ],
            "text/plain": [
              "                                                                                                  Date;Time;PT08.S1(CO);NMHC(GT);C6H6(GT);PT08.S2(NMHC);NOx(GT);PT08.S3(NOx);NO2(GT);PT08.S4(NO2);PT08.S5(O3);T;RH;AH\n",
              "10/03/2004;18.00.00;1360;150;11                    9;1046;166;1056;113;1692;1268;13     6;48 9;0                                             7578.0                                                                  \n",
              "10/03/2004;19.00.00;1292;112;9                     4;955;103;1174;92;1559;972;13        3;47 7;0                                             7255.0                                                                  \n",
              "10/03/2004;20.00.00;1402;88;9;939;131;1140;114;... 9;54;0                               7502 NaN                                                NaN                                                                  \n",
              "10/03/2004;21.00.00;1376;80;9                      2;948;172;1092;122;1584;1203;11;60;0 7867 NaN                                                NaN                                                                  \n",
              "10/03/2004;22.00.00;1272;51;6                      5;836;131;1205;116;1490;1110;11      2;59 6;0                                             7888.0                                                                  "
            ]
          },
          "metadata": {
            "tags": []
          },
          "execution_count": 3
        }
      ]
    },
    {
      "cell_type": "code",
      "metadata": {
        "id": "b7av4VCle9Nh"
      },
      "source": [
        "dados2 = dados.dropna()"
      ],
      "execution_count": null,
      "outputs": []
    },
    {
      "cell_type": "code",
      "metadata": {
        "colab": {
          "base_uri": "https://localhost:8080/"
        },
        "id": "LehHnCchgvlS",
        "outputId": "3ad490dc-dd4f-4696-f848-17ebb2ea2eeb"
      },
      "source": [
        "dados.shape"
      ],
      "execution_count": null,
      "outputs": [
        {
          "output_type": "execute_result",
          "data": {
            "text/plain": [
              "(9357, 1)"
            ]
          },
          "metadata": {
            "tags": []
          },
          "execution_count": 9
        }
      ]
    },
    {
      "cell_type": "code",
      "metadata": {
        "colab": {
          "base_uri": "https://localhost:8080/"
        },
        "id": "qOEH929FhGCQ",
        "outputId": "750cd5a1-4b74-433e-dd8b-3b0d9ef67b12"
      },
      "source": [
        "dados2.shape"
      ],
      "execution_count": null,
      "outputs": [
        {
          "output_type": "execute_result",
          "data": {
            "text/plain": [
              "(6519, 1)"
            ]
          },
          "metadata": {
            "tags": []
          },
          "execution_count": 11
        }
      ]
    },
    {
      "cell_type": "markdown",
      "metadata": {
        "id": "i5N2md8ntcCg"
      },
      "source": [
        "Somar dados faltantes no data set"
      ]
    },
    {
      "cell_type": "code",
      "metadata": {
        "id": "fqOMbaS0hquX"
      },
      "source": [
        "enulo = dados.isnull()\n",
        "enulo.head(100)"
      ],
      "execution_count": null,
      "outputs": []
    },
    {
      "cell_type": "code",
      "metadata": {
        "id": "C73PjHDgico1"
      },
      "source": [
        "faltantes = dados.isnull().sum()\n"
      ],
      "execution_count": null,
      "outputs": []
    },
    {
      "cell_type": "code",
      "metadata": {
        "colab": {
          "base_uri": "https://localhost:8080/"
        },
        "id": "aCsi3bw-nTaD",
        "outputId": "3174be8d-578f-41fa-8856-486843dad6f3"
      },
      "source": [
        "print(faltantes)"
      ],
      "execution_count": null,
      "outputs": [
        {
          "output_type": "stream",
          "text": [
            "Date;Time;PT08.S1(CO);NMHC(GT);C6H6(GT);PT08.S2(NMHC);NOx(GT);PT08.S3(NOx);NO2(GT);PT08.S4(NO2);PT08.S5(O3);T;RH;AH    2838\n",
            "dtype: int64\n"
          ],
          "name": "stdout"
        }
      ]
    },
    {
      "cell_type": "markdown",
      "metadata": {
        "id": "eUu9mq0ituoR"
      },
      "source": [
        "Somando percentual de dados faltantes por coluna"
      ]
    },
    {
      "cell_type": "code",
      "metadata": {
        "id": "2ZlcToF6jtaH"
      },
      "source": [
        "faltantes_percentual = (dados.isnull().sum() / len(dados['Date']))*100"
      ],
      "execution_count": null,
      "outputs": []
    },
    {
      "cell_type": "markdown",
      "metadata": {
        "id": "0btRDaqEuO2G"
      },
      "source": [
        "Preenchendo dados faltantes com a média de dados por coluna"
      ]
    },
    {
      "cell_type": "code",
      "metadata": {
        "id": "Mrgv5agTn4BF"
      },
      "source": [
        "dados['AH'].fillna('Nenhuma',inplace = true)\n",
        "dados['PT08.S1(CO)'].fillna(dados['PT08.S1(CO)'].mean(),inplace = true)\n",
        "dados['NMHC(GT)'].fillna(dados['NMHC(GT)'].mean(),inplace = true)\n",
        "dados['C6H6(GT)'].fillna(dados['C6H6(GT)'].mean(),inplace = true)\n",
        "dados.head(100)"
      ],
      "execution_count": null,
      "outputs": []
    },
    {
      "cell_type": "code",
      "metadata": {
        "colab": {
          "base_uri": "https://localhost:8080/"
        },
        "id": "m98qOiz3upJb",
        "outputId": "6b4fdbc8-e515-403a-f84e-ac7b85838a18"
      },
      "source": [
        "dados.shape"
      ],
      "execution_count": null,
      "outputs": [
        {
          "output_type": "execute_result",
          "data": {
            "text/plain": [
              "(9357, 1)"
            ]
          },
          "metadata": {
            "tags": []
          },
          "execution_count": 26
        }
      ]
    },
    {
      "cell_type": "code",
      "metadata": {
        "id": "TX8UADM7vccE"
      },
      "source": [
        "faltantes_percentual = (dados.isnull().sum() / len(dados['Date']))*100\n",
        "print(falatantes_percentual)"
      ],
      "execution_count": null,
      "outputs": []
    },
    {
      "cell_type": "markdown",
      "metadata": {
        "id": "a5bImRv-wdh4"
      },
      "source": [
        "\n",
        "**Resposta da pergunta 1**: è possivel fazer um tratamento de valore faltantes e outliers pela função FILLNA para substituir um valor faltante por uma string ou calculo da Média e Mediana e com a função DROPNA para excluir a linha com o valor faltante."
      ]
    },
    {
      "cell_type": "markdown",
      "metadata": {
        "id": "ZLzLG8zyvzZj"
      },
      "source": [
        "**Pergunta 2 do Desafio**\n",
        "2 Para as quartas-feiras, quais os horários de pico na cidade (de maior concentração de CO)?\n",
        "\n",
        "**Resposta da pergunta 2** Sei que existe a biblioteca Datatime no Python porem não entendi como vou somar ou classificar um valor especifico por dia 'Quarta feira e Hora' então escolhi uma função no SQL para Classificar um Valor por Data e Hora talvez isso responda parte da pergunta. Desculpe."
      ]
    },
    {
      "cell_type": "code",
      "metadata": {
        "id": "XsvPAyaFKNJg"
      },
      "source": [
        "USE AdventureWorks2012;  \n",
        "GO  \n",
        "SELECT p.FirstName, p.LastName  \n",
        "    ,DATEDIFF(day, ROW_NUMBER() OVER (ORDER BY   \n",
        "        a.PostalCode), SYSDATETIME()) AS 'Row Number'  \n",
        "FROM Sales.SalesPerson s   \n",
        "    INNER JOIN Person.Person p   \n",
        "        ON s.BusinessEntityID = p.BusinessEntityID  \n",
        "    INNER JOIN Person.Address a   \n",
        "        ON a.AddressID = p.BusinessEntityID  \n",
        "WHERE TerritoryID IS NOT NULL   \n",
        "    AND SalesYTD <> 0;  "
      ],
      "execution_count": null,
      "outputs": []
    },
    {
      "cell_type": "markdown",
      "metadata": {
        "id": "sEKJRLkr1yX3"
      },
      "source": [
        "**Pergunta 3 do Desafio**\n",
        "3 Quais as variáveis ​​mais correlacionadas com a variável de predição?"
      ]
    },
    {
      "cell_type": "code",
      "metadata": {
        "colab": {
          "base_uri": "https://localhost:8080/"
        },
        "id": "3Hu-p2xR2E0X",
        "outputId": "169f1f31-679f-4a90-aba2-a2e230ad1282"
      },
      "source": [
        "!pip install seaborn --upgrade"
      ],
      "execution_count": null,
      "outputs": [
        {
          "output_type": "stream",
          "text": [
            "Requirement already up-to-date: seaborn in /usr/local/lib/python3.7/dist-packages (0.11.1)\n",
            "Requirement already satisfied, skipping upgrade: numpy>=1.15 in /usr/local/lib/python3.7/dist-packages (from seaborn) (1.19.5)\n",
            "Requirement already satisfied, skipping upgrade: scipy>=1.0 in /usr/local/lib/python3.7/dist-packages (from seaborn) (1.4.1)\n",
            "Requirement already satisfied, skipping upgrade: matplotlib>=2.2 in /usr/local/lib/python3.7/dist-packages (from seaborn) (3.2.2)\n",
            "Requirement already satisfied, skipping upgrade: pandas>=0.23 in /usr/local/lib/python3.7/dist-packages (from seaborn) (1.1.5)\n",
            "Requirement already satisfied, skipping upgrade: kiwisolver>=1.0.1 in /usr/local/lib/python3.7/dist-packages (from matplotlib>=2.2->seaborn) (1.3.1)\n",
            "Requirement already satisfied, skipping upgrade: cycler>=0.10 in /usr/local/lib/python3.7/dist-packages (from matplotlib>=2.2->seaborn) (0.10.0)\n",
            "Requirement already satisfied, skipping upgrade: pyparsing!=2.0.4,!=2.1.2,!=2.1.6,>=2.0.1 in /usr/local/lib/python3.7/dist-packages (from matplotlib>=2.2->seaborn) (2.4.7)\n",
            "Requirement already satisfied, skipping upgrade: python-dateutil>=2.1 in /usr/local/lib/python3.7/dist-packages (from matplotlib>=2.2->seaborn) (2.8.1)\n",
            "Requirement already satisfied, skipping upgrade: pytz>=2017.2 in /usr/local/lib/python3.7/dist-packages (from pandas>=0.23->seaborn) (2018.9)\n",
            "Requirement already satisfied, skipping upgrade: six in /usr/local/lib/python3.7/dist-packages (from cycler>=0.10->matplotlib>=2.2->seaborn) (1.15.0)\n"
          ],
          "name": "stdout"
        }
      ]
    },
    {
      "cell_type": "code",
      "metadata": {
        "id": "tqIiE9y13D7V"
      },
      "source": [
        "import seaborn as sns\n",
        "import numpy as np"
      ],
      "execution_count": null,
      "outputs": []
    },
    {
      "cell_type": "code",
      "metadata": {
        "id": "KbpDIYyF3T-D"
      },
      "source": [
        "df = sns.load_dataset('dados')"
      ],
      "execution_count": null,
      "outputs": []
    },
    {
      "cell_type": "code",
      "metadata": {
        "colab": {
          "base_uri": "https://localhost:8080/"
        },
        "id": "HKAyDCOW4VvJ",
        "outputId": "34e7b181-05d5-42e7-f379-82b165112d6e"
      },
      "source": [
        "dados.shape"
      ],
      "execution_count": null,
      "outputs": [
        {
          "output_type": "execute_result",
          "data": {
            "text/plain": [
              "(9357, 1)"
            ]
          },
          "metadata": {
            "tags": []
          },
          "execution_count": 34
        }
      ]
    },
    {
      "cell_type": "code",
      "metadata": {
        "colab": {
          "base_uri": "https://localhost:8080/",
          "height": 100
        },
        "id": "XV2od0Ek4rbp",
        "outputId": "6319178e-80cd-472a-952d-d263ae7974fd"
      },
      "source": [
        "dados.corr()"
      ],
      "execution_count": null,
      "outputs": [
        {
          "output_type": "execute_result",
          "data": {
            "text/html": [
              "<div>\n",
              "<style scoped>\n",
              "    .dataframe tbody tr th:only-of-type {\n",
              "        vertical-align: middle;\n",
              "    }\n",
              "\n",
              "    .dataframe tbody tr th {\n",
              "        vertical-align: top;\n",
              "    }\n",
              "\n",
              "    .dataframe thead th {\n",
              "        text-align: right;\n",
              "    }\n",
              "</style>\n",
              "<table border=\"1\" class=\"dataframe\">\n",
              "  <thead>\n",
              "    <tr style=\"text-align: right;\">\n",
              "      <th></th>\n",
              "      <th>Date;Time;PT08.S1(CO);NMHC(GT);C6H6(GT);PT08.S2(NMHC);NOx(GT);PT08.S3(NOx);NO2(GT);PT08.S4(NO2);PT08.S5(O3);T;RH;AH</th>\n",
              "    </tr>\n",
              "  </thead>\n",
              "  <tbody>\n",
              "    <tr>\n",
              "      <th>Date;Time;PT08.S1(CO);NMHC(GT);C6H6(GT);PT08.S2(NMHC);NOx(GT);PT08.S3(NOx);NO2(GT);PT08.S4(NO2);PT08.S5(O3);T;RH;AH</th>\n",
              "      <td>1.0</td>\n",
              "    </tr>\n",
              "  </tbody>\n",
              "</table>\n",
              "</div>"
            ],
            "text/plain": [
              "                                                    Date;Time;PT08.S1(CO);NMHC(GT);C6H6(GT);PT08.S2(NMHC);NOx(GT);PT08.S3(NOx);NO2(GT);PT08.S4(NO2);PT08.S5(O3);T;RH;AH\n",
              "Date;Time;PT08.S1(CO);NMHC(GT);C6H6(GT);PT08.S2...                                                1.0                                                                  "
            ]
          },
          "metadata": {
            "tags": []
          },
          "execution_count": 36
        }
      ]
    },
    {
      "cell_type": "markdown",
      "metadata": {
        "id": "rS4QOd3S49kV"
      },
      "source": [
        "**Correlação** entre as colunas Com o código .corr() é possivel fazer a correlação das variaveis. com base nos valores numericos de cada coluna"
      ]
    },
    {
      "cell_type": "markdown",
      "metadata": {
        "id": "T90JeA0k7Cpn"
      },
      "source": [
        "Mapa de calor com o Seaborn"
      ]
    },
    {
      "cell_type": "code",
      "metadata": {
        "colab": {
          "base_uri": "https://localhost:8080/",
          "height": 809
        },
        "id": "tojgJyug5144",
        "outputId": "47a4c5ec-56ab-49e9-d065-2a4fad851c19"
      },
      "source": [
        "sns.heatmap(dados.corr())"
      ],
      "execution_count": null,
      "outputs": [
        {
          "output_type": "execute_result",
          "data": {
            "text/plain": [
              "<matplotlib.axes._subplots.AxesSubplot at 0x7f93c9d10910>"
            ]
          },
          "metadata": {
            "tags": []
          },
          "execution_count": 38
        },
        {
          "output_type": "display_data",
          "data": {
            "image/png": "[encoded data removed]",
            "text/plain": [
              "<Figure size 432x288 with 2 Axes>"
            ]
          },
          "metadata": {
            "tags": [],
            "needs_background": "light"
          }
        }
      ]
    },
    {
      "cell_type": "code",
      "metadata": {
        "colab": {
          "base_uri": "https://localhost:8080/",
          "height": 809
        },
        "id": "5IocfTEY8fmh",
        "outputId": "f897b81f-ff4d-4ae9-891a-20c2e4a00909"
      },
      "source": [
        "sns.heatmap(dados.corr(), annot=True)"
      ],
      "execution_count": null,
      "outputs": [
        {
          "output_type": "execute_result",
          "data": {
            "text/plain": [
              "<matplotlib.axes._subplots.AxesSubplot at 0x7f93c9c60550>"
            ]
          },
          "metadata": {
            "tags": []
          },
          "execution_count": 39
        },
        {
          "output_type": "display_data",
          "data": {
            "image/png": "[encoded data removed]",
            "text/plain": [
              "<Figure size 432x288 with 2 Axes>"
            ]
          },
          "metadata": {
            "tags": [],
            "needs_background": "light"
          }
        }
      ]
    },
    {
      "cell_type": "markdown",
      "metadata": {
        "id": "PZEwgzpW-AEK"
      },
      "source": [
        "**Mapa de Valor** Minimo e Maximo"
      ]
    },
    {
      "cell_type": "code",
      "metadata": {
        "colab": {
          "base_uri": "https://localhost:8080/",
          "height": 809
        },
        "id": "mnBJVkaD9GnQ",
        "outputId": "845630db-23d6-46b4-f17f-fe5b40e3c4fd"
      },
      "source": [
        "sns.heatmap(dados.corr(), annot=True, vmin=-1, vmax=1)"
      ],
      "execution_count": null,
      "outputs": [
        {
          "output_type": "execute_result",
          "data": {
            "text/plain": [
              "<matplotlib.axes._subplots.AxesSubplot at 0x7f93c00ec990>"
            ]
          },
          "metadata": {
            "tags": []
          },
          "execution_count": 40
        },
        {
          "output_type": "display_data",
          "data": {
            "image/png": "[encoded data removed]",
            "text/plain": [
              "<Figure size 432x288 with 2 Axes>"
            ]
          },
          "metadata": {
            "tags": [],
            "needs_background": "light"
          }
        }
      ]
    },
    {
      "cell_type": "markdown",
      "metadata": {
        "id": "vOE8Mv5M93qg"
      },
      "source": [
        "**Mapa de calor** frio quente"
      ]
    },
    {
      "cell_type": "code",
      "metadata": {
        "colab": {
          "base_uri": "https://localhost:8080/",
          "height": 809
        },
        "id": "BaagWmS49ky4",
        "outputId": "8eed2f95-9ed7-4b15-cbf0-d18cb2338d70"
      },
      "source": [
        "sns.heatmap(dados.corr(), annot=True, vmin=-1, vmax=1, cmap='coolwarm')"
      ],
      "execution_count": null,
      "outputs": [
        {
          "output_type": "execute_result",
          "data": {
            "text/plain": [
              "<matplotlib.axes._subplots.AxesSubplot at 0x7f93c0025050>"
            ]
          },
          "metadata": {
            "tags": []
          },
          "execution_count": 41
        },
        {
          "output_type": "display_data",
          "data": {
            "image/png": "[encoded data removed]",
            "text/plain": [
              "<Figure size 432x288 with 2 Axes>"
            ]
          },
          "metadata": {
            "tags": [],
            "needs_background": "light"
          }
        }
      ]
    },
    {
      "cell_type": "markdown",
      "metadata": {
        "id": "aGZlZklYU6YK"
      },
      "source": [
        "**Mascara **para ocultar os dados dos triangulo de cima"
      ]
    },
    {
      "cell_type": "markdown",
      "metadata": {
        "id": "MDARgMcjkIak"
      },
      "source": [
        "**Função **.triu para visualizar dados da parte de baixo do mapa"
      ]
    },
    {
      "cell_type": "code",
      "metadata": {
        "id": "6MyPdgsTSqro"
      },
      "source": [
        "mask = np.triu(dados.corr())"
      ],
      "execution_count": null,
      "outputs": []
    },
    {
      "cell_type": "code",
      "metadata": {
        "colab": {
          "base_uri": "https://localhost:8080/"
        },
        "id": "njZlC_VkUhVG",
        "outputId": "834725eb-5c26-4ae3-ccdc-e5d32a81a6e9"
      },
      "source": [
        "mask"
      ],
      "execution_count": null,
      "outputs": [
        {
          "output_type": "execute_result",
          "data": {
            "text/plain": [
              "array([[1.]])"
            ]
          },
          "metadata": {
            "tags": []
          },
          "execution_count": 43
        }
      ]
    },
    {
      "cell_type": "code",
      "metadata": {
        "colab": {
          "base_uri": "https://localhost:8080/",
          "height": 809
        },
        "id": "sbQl7BeLUklO",
        "outputId": "55f685da-820d-46af-e5b8-7afad0b84089"
      },
      "source": [
        "sns.heatmap(dados.corr(), annot=True, vmin=-1, vmax=1, cmap='coolwarm',mask=mask)"
      ],
      "execution_count": null,
      "outputs": [
        {
          "output_type": "execute_result",
          "data": {
            "text/plain": [
              "<matplotlib.axes._subplots.AxesSubplot at 0x7f93bff59e50>"
            ]
          },
          "metadata": {
            "tags": []
          },
          "execution_count": 44
        },
        {
          "output_type": "display_data",
          "data": {
            "image/png": "[encoded data removed]",
            "text/plain": [
              "<Figure size 432x288 with 2 Axes>"
            ]
          },
          "metadata": {
            "tags": [],
            "needs_background": "light"
          }
        }
      ]
    },
    {
      "cell_type": "markdown",
      "metadata": {
        "id": "H3-SiH7WjrgS"
      },
      "source": [
        "**Função **.trill para ver os dados pela parte superior do mapa"
      ]
    },
    {
      "cell_type": "code",
      "metadata": {
        "id": "LwwjV_5oVqWj"
      },
      "source": [
        "mask = np.tril(dados.corr())"
      ],
      "execution_count": null,
      "outputs": []
    },
    {
      "cell_type": "code",
      "metadata": {
        "colab": {
          "base_uri": "https://localhost:8080/"
        },
        "id": "R-0F2vjyVxpB",
        "outputId": "f64221fc-9ee5-4afa-d45f-859d55e6d310"
      },
      "source": [
        "mask"
      ],
      "execution_count": null,
      "outputs": [
        {
          "output_type": "execute_result",
          "data": {
            "text/plain": [
              "array([[1.]])"
            ]
          },
          "metadata": {
            "tags": []
          },
          "execution_count": 46
        }
      ]
    },
    {
      "cell_type": "code",
      "metadata": {
        "id": "LZJbEEUBWCfS",
        "colab": {
          "base_uri": "https://localhost:8080/",
          "height": 809
        },
        "outputId": "96fbb73a-e9a9-4197-cfda-cf1f33b76dc0"
      },
      "source": [
        "sns.heatmap(dados.corr(), annot=True, vmin=-1, vmax=1, cmap='coolwarm',mask=mask)"
      ],
      "execution_count": null,
      "outputs": [
        {
          "output_type": "execute_result",
          "data": {
            "text/plain": [
              "<matplotlib.axes._subplots.AxesSubplot at 0x7f93bfd23050>"
            ]
          },
          "metadata": {
            "tags": []
          },
          "execution_count": 47
        },
        {
          "output_type": "display_data",
          "data": {
            "image/png": "[encoded data removed]",
            "text/plain": [
              "<Figure size 432x288 with 2 Axes>"
            ]
          },
          "metadata": {
            "tags": [],
            "needs_background": "light"
          }
        }
      ]
    },
    {
      "cell_type": "markdown",
      "metadata": {
        "id": "bEk_W7KpLiPO"
      },
      "source": [
        "**Resposta da pergunta 3** ele não funcionou corretamente por causa das colunas e linhas porer o código para realizar outras funções eu coloquei e funcionou no video de referencia sobre como criar Matriz de Correlação\n",
        "\n",
        "https://www.youtube.com/watch?v=Q3y6gVhRMt4&t=8s"
      ]
    },
    {
      "cell_type": "markdown",
      "metadata": {
        "id": "iSlXyyfcml1t"
      },
      "source": [
        "**Pergunta 4 sobre Regressão Linear**\n",
        "4 Crie um modelo de regressão de PT08.S1 a partir das demais variáveis. Avalie usando como métricas que julgar pertinente para o problema. Resposta"
      ]
    },
    {
      "cell_type": "code",
      "metadata": {
        "id": "7IKb5lv4m6tk"
      },
      "source": [
        "import numpy as np\n",
        "import pandas as pd\n",
        "import matplotlib.pyplot as plt\n"
      ],
      "execution_count": null,
      "outputs": []
    },
    {
      "cell_type": "code",
      "metadata": {
        "colab": {
          "base_uri": "https://localhost:8080/",
          "height": 224
        },
        "id": "jdwKxG-fnVQq",
        "outputId": "525315b1-7ecb-45d3-e8ea-40128422a272"
      },
      "source": [
        "dados.head()"
      ],
      "execution_count": null,
      "outputs": [
        {
          "output_type": "execute_result",
          "data": {
            "text/html": [
              "<div>\n",
              "<style scoped>\n",
              "    .dataframe tbody tr th:only-of-type {\n",
              "        vertical-align: middle;\n",
              "    }\n",
              "\n",
              "    .dataframe tbody tr th {\n",
              "        vertical-align: top;\n",
              "    }\n",
              "\n",
              "    .dataframe thead th {\n",
              "        text-align: right;\n",
              "    }\n",
              "</style>\n",
              "<table border=\"1\" class=\"dataframe\">\n",
              "  <thead>\n",
              "    <tr style=\"text-align: right;\">\n",
              "      <th></th>\n",
              "      <th></th>\n",
              "      <th></th>\n",
              "      <th></th>\n",
              "      <th>Date;Time;PT08.S1(CO);NMHC(GT);C6H6(GT);PT08.S2(NMHC);NOx(GT);PT08.S3(NOx);NO2(GT);PT08.S4(NO2);PT08.S5(O3);T;RH;AH</th>\n",
              "    </tr>\n",
              "  </thead>\n",
              "  <tbody>\n",
              "    <tr>\n",
              "      <th>10/03/2004;18.00.00;1360;150;11</th>\n",
              "      <th>9;1046;166;1056;113;1692;1268;13</th>\n",
              "      <th>6;48</th>\n",
              "      <th>9;0</th>\n",
              "      <td>7578.0</td>\n",
              "    </tr>\n",
              "    <tr>\n",
              "      <th>10/03/2004;19.00.00;1292;112;9</th>\n",
              "      <th>4;955;103;1174;92;1559;972;13</th>\n",
              "      <th>3;47</th>\n",
              "      <th>7;0</th>\n",
              "      <td>7255.0</td>\n",
              "    </tr>\n",
              "    <tr>\n",
              "      <th>10/03/2004;20.00.00;1402;88;9;939;131;1140;114;1555;1074;11</th>\n",
              "      <th>9;54;0</th>\n",
              "      <th>7502</th>\n",
              "      <th>NaN</th>\n",
              "      <td>NaN</td>\n",
              "    </tr>\n",
              "    <tr>\n",
              "      <th>10/03/2004;21.00.00;1376;80;9</th>\n",
              "      <th>2;948;172;1092;122;1584;1203;11;60;0</th>\n",
              "      <th>7867</th>\n",
              "      <th>NaN</th>\n",
              "      <td>NaN</td>\n",
              "    </tr>\n",
              "    <tr>\n",
              "      <th>10/03/2004;22.00.00;1272;51;6</th>\n",
              "      <th>5;836;131;1205;116;1490;1110;11</th>\n",
              "      <th>2;59</th>\n",
              "      <th>6;0</th>\n",
              "      <td>7888.0</td>\n",
              "    </tr>\n",
              "  </tbody>\n",
              "</table>\n",
              "</div>"
            ],
            "text/plain": [
              "                                                                                                  Date;Time;PT08.S1(CO);NMHC(GT);C6H6(GT);PT08.S2(NMHC);NOx(GT);PT08.S3(NOx);NO2(GT);PT08.S4(NO2);PT08.S5(O3);T;RH;AH\n",
              "10/03/2004;18.00.00;1360;150;11                    9;1046;166;1056;113;1692;1268;13     6;48 9;0                                             7578.0                                                                  \n",
              "10/03/2004;19.00.00;1292;112;9                     4;955;103;1174;92;1559;972;13        3;47 7;0                                             7255.0                                                                  \n",
              "10/03/2004;20.00.00;1402;88;9;939;131;1140;114;... 9;54;0                               7502 NaN                                                NaN                                                                  \n",
              "10/03/2004;21.00.00;1376;80;9                      2;948;172;1092;122;1584;1203;11;60;0 7867 NaN                                                NaN                                                                  \n",
              "10/03/2004;22.00.00;1272;51;6                      5;836;131;1205;116;1490;1110;11      2;59 6;0                                             7888.0                                                                  "
            ]
          },
          "metadata": {
            "tags": []
          },
          "execution_count": 49
        }
      ]
    },
    {
      "cell_type": "markdown",
      "metadata": {
        "id": "2JVizPsfpGDW"
      },
      "source": [
        "Aqui não consigo acessar a coluna PT08.S1(CO) para fazer o calculo assim vou colocar x e y "
      ]
    },
    {
      "cell_type": "code",
      "metadata": {
        "id": "G1jPQ2kandzq"
      },
      "source": [
        "X = dados ['X'].values\n",
        "Y = dados ['Y'].values"
      ],
      "execution_count": null,
      "outputs": []
    },
    {
      "cell_type": "code",
      "metadata": {
        "id": "WKxp-GbMoC0Q"
      },
      "source": [
        "plt.scatter(X,Y,label='Y(X)');\n",
        "plt.xlabel('X');\n",
        "plt.ylabel('Y');\n",
        "plt.legend();"
      ],
      "execution_count": null,
      "outputs": []
    },
    {
      "cell_type": "markdown",
      "metadata": {
        "id": "E4yU8HuzqGpO"
      },
      "source": [
        "**Y = mX+c**"
      ]
    },
    {
      "cell_type": "code",
      "metadata": {
        "id": "_3-0vk9qo-iJ"
      },
      "source": [
        "from sklearn.linear_model import LinearRegression"
      ],
      "execution_count": null,
      "outputs": []
    },
    {
      "cell_type": "code",
      "metadata": {
        "id": "W5brOJOMqtpn"
      },
      "source": [
        "modelo = LinearRegression()"
      ],
      "execution_count": null,
      "outputs": []
    },
    {
      "cell_type": "code",
      "metadata": {
        "id": "ehB-w3ZHq68U"
      },
      "source": [
        "x = x.redshape(-1,1)"
      ],
      "execution_count": null,
      "outputs": []
    },
    {
      "cell_type": "code",
      "metadata": {
        "id": "Y_I4s9wErHV7"
      },
      "source": [
        "modelo.fit(X,Y)"
      ],
      "execution_count": null,
      "outputs": []
    },
    {
      "cell_type": "code",
      "metadata": {
        "id": "5Im7siMIrT5P"
      },
      "source": [
        "acuracia = modelo.score(X,Y)"
      ],
      "execution_count": null,
      "outputs": []
    },
    {
      "cell_type": "code",
      "metadata": {
        "id": "aSypRm0LreuA"
      },
      "source": [
        "print('Acuracia = {0.2f}'.format(Acuracia))"
      ],
      "execution_count": null,
      "outputs": []
    },
    {
      "cell_type": "code",
      "metadata": {
        "id": "FksyCghSsCTi"
      },
      "source": [
        "coef_angular = modelo.coef_(0)"
      ],
      "execution_count": null,
      "outputs": []
    },
    {
      "cell_type": "code",
      "metadata": {
        "id": "uQ43cWSksdao"
      },
      "source": [
        "coef_linear = modelo.intercept_"
      ],
      "execution_count": null,
      "outputs": []
    },
    {
      "cell_type": "code",
      "metadata": {
        "id": "EsJ6EHSvsorB"
      },
      "source": [
        "print('Coeficiente angular = {0.2f}'.format(coef_angular))"
      ],
      "execution_count": null,
      "outputs": []
    },
    {
      "cell_type": "code",
      "metadata": {
        "id": "RFowl9-3txyh"
      },
      "source": [
        "print('Coeficiente linear = {0.2f}'.format(coef_linear))"
      ],
      "execution_count": null,
      "outputs": []
    },
    {
      "cell_type": "code",
      "metadata": {
        "id": "E0uU9voPt8Y5"
      },
      "source": [
        "reta = coef_angular*X+coef_linear"
      ],
      "execution_count": null,
      "outputs": []
    },
    {
      "cell_type": "code",
      "metadata": {
        "id": "MIIzIQwpuQ5-"
      },
      "source": [
        "plt.scatter(X,Y,label='Y(X)');\n",
        "plt.plot(X, reta, label='Ajuste linear',color='red');\n",
        "plt.xlabel('X');\n",
        "plt.ylabel('Y');\n",
        "plt.legend();"
      ],
      "execution_count": null,
      "outputs": []
    },
    {
      "cell_type": "code",
      "metadata": {
        "id": "bcv7g37evmse"
      },
      "source": [
        "from sklearn.metrics import mean_absolute_error,mean_squared_error\n",
        "\n",
        "MAE = mean_absolut_error(Y,reta)\n",
        "RMSE = np.sqrt(mean_squared_error(Y,reta))\n",
        "\n",
        "print ('MAE = {0.2f}'.format(MAE))\n",
        "print ('RMSE = {0.2f}'.format(RMSE))"
      ],
      "execution_count": null,
      "outputs": []
    },
    {
      "cell_type": "markdown",
      "metadata": {
        "id": "NQhNKwu9yH6H"
      },
      "source": [
        "**Video de referencia para fazer a regressão Linear**\n",
        "https://www.youtube.com/watch?v=OJdLxvFE0lw"
      ]
    },
    {
      "cell_type": "markdown",
      "metadata": {
        "id": "p74bIHp4ydYZ"
      },
      "source": [
        "**Pergunta 5 Bonus do Desafio **\n",
        "5 Como as estações do ano interferem nas variáveis ​​/ predição e qual sua proposta de solução? Essas perguntas servem apenas para direcionar uma análise. Sinta-se livre para surpreender.\n",
        "\n",
        "**Resposta 5 Bonus Análise de Series Temporais**, \n",
        "Séries temporais são uma séries de observações registradas em intervalos de tempo regulares.\n",
        "Link de referencia:https://sigmoidal.ai/series-temporais-time-series-com-python/\n",
        "\n",
        "abaixo o codigo explicando como fazer series temporais."
      ]
    },
    {
      "cell_type": "code",
      "metadata": {
        "id": "astQZahkQt-U"
      },
      "source": [
        " ​​# importar pacotes e setar configurações de plots\n",
        "import pandas as pd\n",
        "from statsmodels.tsa.seasonal import seasonal_decompose\n",
        "import matplotlib.pyplot as plt\n",
        "import seaborn as sns\n",
        "\n",
        "# url do dataset\n",
        "dataset_path = \"https://raw.githubusercontent.com/carlosfab/escola-data-science/master/datasets/electricity_consumption/Electric_Production.csv\"\n",
        "\n",
        "# importar o csv para um dataframe\n",
        "df = pd.read_csv(dataset_path)\n",
        "\n",
        "# ver as 5 primeiras entradas\n",
        "df.head()"
      ],
      "execution_count": null,
      "outputs": []
    },
    {
      "cell_type": "code",
      "metadata": {
        "id": "dE5OHTiCR7a4"
      },
      "source": [
        "# plotar gráfico de consumo de eletricidade\n",
        "plt.plot(df.index, df.Value);"
      ],
      "execution_count": null,
      "outputs": []
    },
    {
      "cell_type": "code",
      "metadata": {
        "id": "Z3RZNq5jSChx"
      },
      "source": [
        "<em># salvar a decomposicao em result</em>\n",
        "result = seasonal_decompose(df)\n",
        "\n",
        "<em># plotar os 4 gr</em>áficos\n",
        "fig, (ax1,ax2,ax3, ax4) = plt.subplots(4,1, figsize=(12,8))\n",
        "result.observed.plot(ax=ax1)\n",
        "result.trend.plot(ax=ax2)\n",
        "result.seasonal.plot(ax=ax3)\n",
        "result.resid.plot(ax=ax4)\n",
        "plt.tight_layout()"
      ],
      "execution_count": null,
      "outputs": []
    }
  ]
}